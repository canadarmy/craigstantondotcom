{
 "cells": [
  {
   "cell_type": "markdown",
   "metadata": {},
   "source": [
    "# Initial Blockchain Build\n",
    "\n",
    "## The Scenario\n",
    "* We will have 3 users  - 2 who are voluntarily on the network and 1 who is not\n",
    "    * These users will be on AWS and GCS\n",
    "* One master computer will run the code\n",
    "    * Maybe another computer execute the Proof of Work and extend the blocks\n",
    "* They will transfer coins to eachother and will be visible on the computers in the cloud\n",
    "    * Have the site show real-time transactions and activities that occur on the network\n",
    "    * Have the ability to interact with the interface to allow the user to select the transactions\n",
    "* Data should be extractable via an API to be mapped on the website\n",
    "* Publish the code on github"
   ]
  },
  {
   "cell_type": "markdown",
   "metadata": {},
   "source": [
    "## Step 1: Create the users"
   ]
  },
  {
   "cell_type": "code",
   "execution_count": 3,
   "metadata": {
    "collapsed": true
   },
   "outputs": [],
   "source": [
    "class User():\n",
    "    #These are the users that will be involved in the network\n",
    "    def __init__(self, name, amount):\n",
    "        self.name = name\n",
    "        self.userid = userid\n",
    "        self.amount = amount\n",
    "        "
   ]
  },
  {
   "cell_type": "code",
   "execution_count": null,
   "metadata": {
    "collapsed": true
   },
   "outputs": [],
   "source": [
    "craig = User()"
   ]
  }
 ],
 "metadata": {
  "kernelspec": {
   "display_name": "Python 3",
   "language": "python",
   "name": "python3"
  },
  "language_info": {
   "codemirror_mode": {
    "name": "ipython",
    "version": 3
   },
   "file_extension": ".py",
   "mimetype": "text/x-python",
   "name": "python",
   "nbconvert_exporter": "python",
   "pygments_lexer": "ipython3",
   "version": "3.6.1"
  }
 },
 "nbformat": 4,
 "nbformat_minor": 2
}
